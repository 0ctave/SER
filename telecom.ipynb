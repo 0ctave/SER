{
 "cells": [
  {
   "cell_type": "code",
   "execution_count": 23,
   "outputs": [
    {
     "ename": "ImportError",
     "evalue": "attempted relative import with no known parent package",
     "output_type": "error",
     "traceback": [
      "\u001B[1;31m---------------------------------------------------------------------------\u001B[0m",
      "\u001B[1;31mImportError\u001B[0m                               Traceback (most recent call last)",
      "Input \u001B[1;32mIn [23]\u001B[0m, in \u001B[0;36m<cell line: 4>\u001B[1;34m()\u001B[0m\n\u001B[0;32m      1\u001B[0m \u001B[38;5;28;01mimport\u001B[39;00m \u001B[38;5;21;01mnumpy\u001B[39;00m \u001B[38;5;28;01mas\u001B[39;00m \u001B[38;5;21;01mnp\u001B[39;00m\n\u001B[0;32m      2\u001B[0m \u001B[38;5;28;01mfrom\u001B[39;00m \u001B[38;5;21;01mpulp\u001B[39;00m \u001B[38;5;28;01mimport\u001B[39;00m \u001B[38;5;241m*\u001B[39m\n\u001B[1;32m----> 4\u001B[0m \u001B[38;5;28;01mfrom\u001B[39;00m \u001B[38;5;21;01m.\u001B[39;00m \u001B[38;5;28;01mimport\u001B[39;00m Read_Excel\n",
      "\u001B[1;31mImportError\u001B[0m: attempted relative import with no known parent package"
     ]
    }
   ],
   "source": [
    "import numpy as np\n",
    "from pulp import *\n",
    "\n",
    "from . import Read_Excel"
   ],
   "metadata": {
    "collapsed": false,
    "pycharm": {
     "name": "#%%\n"
    }
   }
  },
  {
   "cell_type": "code",
   "execution_count": 21,
   "outputs": [],
   "source": [
    "prob = LpProblem(\"MILP\", LpMinimize)"
   ],
   "metadata": {
    "collapsed": false,
    "pycharm": {
     "name": "#%%\n"
    }
   }
  },
  {
   "cell_type": "code",
   "execution_count": 22,
   "outputs": [
    {
     "ename": "AttributeError",
     "evalue": "module 'Read_Excel' has no attribute 'read_excel_data'",
     "output_type": "error",
     "traceback": [
      "\u001B[1;31m---------------------------------------------------------------------------\u001B[0m",
      "\u001B[1;31mAttributeError\u001B[0m                            Traceback (most recent call last)",
      "Input \u001B[1;32mIn [22]\u001B[0m, in \u001B[0;36m<cell line: 2>\u001B[1;34m()\u001B[0m\n\u001B[0;32m      1\u001B[0m InputData \u001B[38;5;241m=\u001B[39m \u001B[38;5;124m\"\u001B[39m\u001B[38;5;124mInputDataTelecomSmallInstance.xlsx\u001B[39m\u001B[38;5;124m\"\u001B[39m\n\u001B[1;32m----> 2\u001B[0m C \u001B[38;5;241m=\u001B[39m \u001B[43mRead_Excel\u001B[49m\u001B[38;5;241;43m.\u001B[39;49m\u001B[43mread_excel_data\u001B[49m(InputData, \u001B[38;5;124m\"\u001B[39m\u001B[38;5;124mC\u001B[39m\u001B[38;5;124m\"\u001B[39m)\n\u001B[0;32m      3\u001B[0m M \u001B[38;5;241m=\u001B[39m Read_Excel\u001B[38;5;241m.\u001B[39mread_excel_data(InputData, \u001B[38;5;124m\"\u001B[39m\u001B[38;5;124mM\u001B[39m\u001B[38;5;124m\"\u001B[39m)\n\u001B[0;32m      4\u001B[0m N \u001B[38;5;241m=\u001B[39m Read_Excel\u001B[38;5;241m.\u001B[39mread_excel_data(InputData, \u001B[38;5;124m\"\u001B[39m\u001B[38;5;124mN\u001B[39m\u001B[38;5;124m\"\u001B[39m)\n",
      "\u001B[1;31mAttributeError\u001B[0m: module 'Read_Excel' has no attribute 'read_excel_data'"
     ]
    }
   ],
   "source": [
    "InputData = \"InputDataTelecomSmallInstance.xlsx\"\n",
    "C = Read_Excel.read_excel_data(InputData, \"C\")\n",
    "M = Read_Excel.read_excel_data(InputData, \"M\")\n",
    "N = Read_Excel.read_excel_data(InputData, \"N\")\n",
    "alpha = Read_Excel.read_excel_data(InputData, \"alpha\")[0]\n",
    "\n",
    "h = Read_Excel.read_excel_data(InputData, \"CustToTargetAllocCost(hij)\")\n",
    "c = Read_Excel.read_excel_data(InputData, \"TargetToSteinerAllocCost(cjk)\")\n",
    "g = Read_Excel.read_excel_data(InputData, \"SteinerToSteinerConnctCost(gkm)\")\n",
    "f = Read_Excel.read_excel_data(InputData, \"SteinerFixedCost(fk)\")\n",
    "U = Read_Excel.read_excel_data(InputData, \"TargetCapicity(Uj)\")\n",
    "V = Read_Excel.read_excel_data(InputData, \"SteinerCapacity(Vk)\")\n",
    "\n",
    "X = LpVariable('X', cat='Boolean')\n",
    "Y = LpVariable('Y', cat='Boolean')\n",
    "Z = LpVariable('Z', cat='Boolean')\n",
    "L = LpVariable('L', cat='Boolean')"
   ],
   "metadata": {
    "collapsed": false,
    "pycharm": {
     "name": "#%%\n"
    }
   }
  },
  {
   "cell_type": "code",
   "execution_count": null,
   "outputs": [],
   "source": [],
   "metadata": {
    "collapsed": false,
    "pycharm": {
     "name": "#%%\n"
    }
   }
  },
  {
   "cell_type": "code",
   "execution_count": null,
   "outputs": [],
   "source": [
    "prob += sum(np.multiply(X, h)) + sum(np.multiply(Y, c)) + sum(np.multiply(Z, g)) + sum(np.multiply(L, f))\n",
    "\n",
    "# The constraints are added to 'problem1'\n",
    "problem1 += x1 <= 4\n",
    "problem1 += x2 <= 6\n",
    "problem1 += 3 * x1 + 2 * x2 <= 18"
   ],
   "metadata": {
    "collapsed": false,
    "pycharm": {
     "name": "#%%\n"
    }
   }
  }
 ],
 "metadata": {
  "kernelspec": {
   "display_name": "Python 3",
   "language": "python",
   "name": "python3"
  },
  "language_info": {
   "codemirror_mode": {
    "name": "ipython",
    "version": 2
   },
   "file_extension": ".py",
   "mimetype": "text/x-python",
   "name": "python",
   "nbconvert_exporter": "python",
   "pygments_lexer": "ipython2",
   "version": "2.7.6"
  }
 },
 "nbformat": 4,
 "nbformat_minor": 0
}